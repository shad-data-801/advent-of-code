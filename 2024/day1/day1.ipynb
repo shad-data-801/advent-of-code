{
 "cells": [
  {
   "cell_type": "markdown",
   "metadata": {},
   "source": [
    "Day 1 Part 1"
   ]
  },
  {
   "cell_type": "code",
   "execution_count": 18,
   "metadata": {},
   "outputs": [],
   "source": [
    "# Read file\n",
    "with open(\"day1.txt\", \"r\") as file:\n",
    "    location = file.read()\n",
    "\n",
    "# Split the data into 2 lists and sort\n",
    "list1 = []\n",
    "list2 = []\n",
    "for line in location.split(\"\\n\"):\n",
    "    split_line = line.split(\"   \")\n",
    "    list1.append(int(split_line[0]))\n",
    "    list2.append(int(split_line[1]))\n",
    "list1.sort()\n",
    "list2.sort()"
   ]
  },
  {
   "cell_type": "code",
   "execution_count": 12,
   "metadata": {},
   "outputs": [
    {
     "name": "stdout",
     "output_type": "stream",
     "text": [
      "3574690\n"
     ]
    }
   ],
   "source": [
    "# find the sum for each pair and add them together\n",
    "total = 0\n",
    "for i in range(len(list1)):\n",
    "    total += abs(list1[i] - list2[i])\n",
    "print(total)"
   ]
  },
  {
   "cell_type": "markdown",
   "metadata": {},
   "source": [
    "Part 2"
   ]
  },
  {
   "cell_type": "code",
   "execution_count": null,
   "metadata": {},
   "outputs": [],
   "source": [
    "# Pass through list2 once and get a count of each number\n",
    "list2_counts = dict()\n",
    "for i in list2:\n",
    "    if list2_counts.get(i):\n",
    "        list2_counts[i] += 1\n",
    "    else:\n",
    "        list2_counts[i] = 1"
   ]
  },
  {
   "cell_type": "code",
   "execution_count": null,
   "metadata": {},
   "outputs": [
    {
     "name": "stdout",
     "output_type": "stream",
     "text": [
      "22565391\n"
     ]
    }
   ],
   "source": [
    "# Pass through list 1 once and get similarity score\n",
    "score_total = 0\n",
    "for i in list1:\n",
    "    score_total += i * list2_counts.get(i, 0)\n",
    "print(score_total)"
   ]
  }
 ],
 "metadata": {
  "kernelspec": {
   "display_name": ".venv",
   "language": "python",
   "name": "python3"
  },
  "language_info": {
   "codemirror_mode": {
    "name": "ipython",
    "version": 3
   },
   "file_extension": ".py",
   "mimetype": "text/x-python",
   "name": "python",
   "nbconvert_exporter": "python",
   "pygments_lexer": "ipython3",
   "version": "3.11.10"
  }
 },
 "nbformat": 4,
 "nbformat_minor": 2
}
