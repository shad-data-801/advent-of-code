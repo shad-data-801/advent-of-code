{
 "cells": [
  {
   "cell_type": "markdown",
   "metadata": {},
   "source": [
    "Day 2 Part 1"
   ]
  },
  {
   "cell_type": "code",
   "execution_count": 13,
   "metadata": {},
   "outputs": [],
   "source": [
    "from typing import List"
   ]
  },
  {
   "cell_type": "code",
   "execution_count": 25,
   "metadata": {},
   "outputs": [],
   "source": [
    "# Read file and split reports and make lists of ints\n",
    "with open(\"day2.txt\", \"r\") as file:\n",
    "    reports = file.read().split(\"\\n\")\n",
    "reports_split = [line.split(\" \") for line in reports]\n",
    "cleaned_report = []\n",
    "for report in reports_split:\n",
    "    cleaned_report.append([int(i) for i in report])"
   ]
  },
  {
   "cell_type": "code",
   "execution_count": 27,
   "metadata": {},
   "outputs": [],
   "source": [
    "def is_safe_report(report: List)-> bool:\n",
    "    '''Check if report is safe or not'''\n",
    "    is_increasing = False if report[0] - report[1] > 0 else True\n",
    "    for i in range(len(report) -1):\n",
    "        diff = report[i] - report[i+1]\n",
    "        # If previous numbers were increasing but it is not increasing safely mark report as unsafe\n",
    "        if is_increasing and (diff > -1 or diff < -3):\n",
    "            return False\n",
    "        # if previous numbers were decreasing but it is not decreasing safely mark report as unsafe\n",
    "        elif not is_increasing and (diff < 1 or diff > 3):\n",
    "            return False\n",
    "    return True"
   ]
  },
  {
   "cell_type": "code",
   "execution_count": 28,
   "metadata": {},
   "outputs": [
    {
     "name": "stdout",
     "output_type": "stream",
     "text": [
      "379\n"
     ]
    }
   ],
   "source": [
    "safe_report_count = 0\n",
    "for report in cleaned_report:\n",
    "    is_safe = is_safe_report(report=report)\n",
    "    if is_safe:\n",
    "        safe_report_count += 1\n",
    "print(safe_report_count)\n"
   ]
  },
  {
   "cell_type": "markdown",
   "metadata": {},
   "source": [
    "Part 2"
   ]
  },
  {
   "cell_type": "code",
   "execution_count": 29,
   "metadata": {},
   "outputs": [
    {
     "name": "stdout",
     "output_type": "stream",
     "text": [
      "430\n"
     ]
    }
   ],
   "source": [
    "dampener_report_count = 0\n",
    "for report in cleaned_report:\n",
    "    is_safe = is_safe_report(report=report)\n",
    "    # If report is not safe, check if removing elements makes it safe\n",
    "    if not is_safe:\n",
    "        for i in range(len(report)):\n",
    "            altered_report = report[:i] + report[i+1:]\n",
    "            dampened_safe = is_safe_report(altered_report)\n",
    "            if dampened_safe:\n",
    "                is_safe = True\n",
    "                break\n",
    "    if is_safe:\n",
    "        dampener_report_count += 1\n",
    "print(dampener_report_count)"
   ]
  }
 ],
 "metadata": {
  "kernelspec": {
   "display_name": ".venv",
   "language": "python",
   "name": "python3"
  },
  "language_info": {
   "codemirror_mode": {
    "name": "ipython",
    "version": 3
   },
   "file_extension": ".py",
   "mimetype": "text/x-python",
   "name": "python",
   "nbconvert_exporter": "python",
   "pygments_lexer": "ipython3",
   "version": "3.11.10"
  }
 },
 "nbformat": 4,
 "nbformat_minor": 2
}
