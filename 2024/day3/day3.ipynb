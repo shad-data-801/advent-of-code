{
 "cells": [
  {
   "cell_type": "markdown",
   "metadata": {},
   "source": [
    "Day 3 Part 1"
   ]
  },
  {
   "cell_type": "code",
   "execution_count": 40,
   "metadata": {},
   "outputs": [],
   "source": [
    "import re"
   ]
  },
  {
   "cell_type": "code",
   "execution_count": 41,
   "metadata": {},
   "outputs": [],
   "source": [
    "# Read file\n",
    "with open(\"day3.txt\", \"r\") as file:\n",
    "    data = file.read()"
   ]
  },
  {
   "cell_type": "code",
   "execution_count": 42,
   "metadata": {},
   "outputs": [],
   "source": [
    "# Bring all matches for the mul(,) pattern\n",
    "matches = re.findall(\"mul\\([0-9]+,[0-9]+\\)\", data)"
   ]
  },
  {
   "cell_type": "code",
   "execution_count": 43,
   "metadata": {},
   "outputs": [
    {
     "name": "stdout",
     "output_type": "stream",
     "text": [
      "168539636\n"
     ]
    }
   ],
   "source": [
    "# split the data and do the math\n",
    "final_count = 0\n",
    "for match in matches:\n",
    "    numbers = match.split(\",\")\n",
    "    num1 = int(numbers[0][4:])\n",
    "    num2 = int(numbers[1][:-1])\n",
    "    final_count += num1 * num2\n",
    "print(final_count)"
   ]
  },
  {
   "cell_type": "markdown",
   "metadata": {},
   "source": [
    "Part 2"
   ]
  },
  {
   "cell_type": "code",
   "execution_count": 44,
   "metadata": {},
   "outputs": [],
   "source": [
    "# split the data by do's and remove the don'ts \n",
    "dos = re.split(\"do\", data)\n",
    "cleaned_matches = []\n",
    "for do in dos:\n",
    "    if do[:3] == \"n't\":\n",
    "        pass\n",
    "    else:\n",
    "        cleaned_matches.append(do)\n",
    "cleaned_matches = \"\".join(cleaned_matches)\n",
    "# now get the matches for the pattern mul(,)\n",
    "cleaned_matches = re.findall(\"mul\\([0-9]+,[0-9]+\\)\", cleaned_matches)"
   ]
  },
  {
   "cell_type": "code",
   "execution_count": 45,
   "metadata": {},
   "outputs": [
    {
     "name": "stdout",
     "output_type": "stream",
     "text": [
      "97529391\n"
     ]
    }
   ],
   "source": [
    "# split the data and do the math\n",
    "altered_counter = 0\n",
    "for match in cleaned_matches:\n",
    "    numbers = match.split(\",\")\n",
    "    num1 = int(numbers[0][4:])\n",
    "    num2 = int(numbers[1][:-1])\n",
    "    altered_counter += num1 * num2\n",
    "print(altered_counter)"
   ]
  }
 ],
 "metadata": {
  "kernelspec": {
   "display_name": ".venv",
   "language": "python",
   "name": "python3"
  },
  "language_info": {
   "codemirror_mode": {
    "name": "ipython",
    "version": 3
   },
   "file_extension": ".py",
   "mimetype": "text/x-python",
   "name": "python",
   "nbconvert_exporter": "python",
   "pygments_lexer": "ipython3",
   "version": "3.11.10"
  }
 },
 "nbformat": 4,
 "nbformat_minor": 2
}
